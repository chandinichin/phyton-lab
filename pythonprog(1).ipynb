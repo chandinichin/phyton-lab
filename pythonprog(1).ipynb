{
 "cells": [
  {
   "cell_type": "code",
   "execution_count": null,
   "id": "151c610c",
   "metadata": {
    "scrolled": true
   },
   "outputs": [
    {
     "name": "stdout",
     "output_type": "stream",
     "text": [
      "MENU DRIVEN PROGRAM\n",
      "1. Get the current working directory\n",
      "2. List all files and directories in the current directory\n",
      "3. Create a new directory\n",
      "4. Verify if the new directory has been created\n",
      "5. Copy a file into this directory\n",
      "ENTER YOUR CHOICE: 1\n",
      "C:\\Users\\User\\dirfolder\n",
      "MENU DRIVEN PROGRAM\n",
      "1. Get the current working directory\n",
      "2. List all files and directories in the current directory\n",
      "3. Create a new directory\n",
      "4. Verify if the new directory has been created\n",
      "5. Copy a file into this directory\n",
      "ENTER YOUR CHOICE: 2\n",
      "['.ipynb_checkpoints', 'pfile.txt', 'pythonprog.ipynb']\n",
      "MENU DRIVEN PROGRAM\n",
      "1. Get the current working directory\n",
      "2. List all files and directories in the current directory\n",
      "3. Create a new directory\n",
      "4. Verify if the new directory has been created\n",
      "5. Copy a file into this directory\n",
      "ENTER YOUR CHOICE: 3\n",
      "Directory 'newdirectory' created!!\n",
      "MENU DRIVEN PROGRAM\n",
      "1. Get the current working directory\n",
      "2. List all files and directories in the current directory\n",
      "3. Create a new directory\n",
      "4. Verify if the new directory has been created\n",
      "5. Copy a file into this directory\n",
      "ENTER YOUR CHOICE: 4\n",
      "True\n",
      "MENU DRIVEN PROGRAM\n",
      "1. Get the current working directory\n",
      "2. List all files and directories in the current directory\n",
      "3. Create a new directory\n",
      "4. Verify if the new directory has been created\n",
      "5. Copy a file into this directory\n",
      "ENTER YOUR CHOICE: 5\n",
      "File copied!!!\n",
      "MENU DRIVEN PROGRAM\n",
      "1. Get the current working directory\n",
      "2. List all files and directories in the current directory\n",
      "3. Create a new directory\n",
      "4. Verify if the new directory has been created\n",
      "5. Copy a file into this directory\n"
     ]
    }
   ],
   "source": [
    "import os\n",
    "import shutil\n",
    "while(1):\n",
    "    print(\"MENU DRIVEN PROGRAM\")\n",
    "    print(\"1. Get the current working directory\")\n",
    "    print(\"2. List all files and directories in the current directory\")\n",
    "    print(\"3. Create a new directory\")\n",
    "    print(\"4. Verify if the new directory has been created\")\n",
    "    print(\"5. Copy a file into this directory\")\n",
    "    ch=int(input(\"ENTER YOUR CHOICE: \"))\n",
    "    if ch==1:\n",
    "        current_directory=os.getcwd()\n",
    "        print(current_directory)\n",
    "    elif ch==2:\n",
    "        files=os.listdir(os.curdir)\n",
    "        print(files)\n",
    "    elif ch==3:\n",
    "        directory=\"newdirectory\"\n",
    "        # after creating program we will get current directory(c:\\user.....)copy and paste into parent directory\n",
    "        parent_dir=\"C:/Users/User/dirfolder/\"\n",
    "        path=os.path.join(parent_dir,directory)\n",
    "        os.mkdir(path)\n",
    "        print(\"Directory '%s' created!!\" %directory)\n",
    "    elif ch==4:\n",
    "        directory=\"newdirectory\"\n",
    "        parent_dir=\"C:/Users/User/dirfolder/\"\n",
    "        path=os.path.join(parent_dir,directory)\n",
    "        exist=os.path.exists(path)\n",
    "        print(exist)\n",
    "    elif ch==5:\n",
    "        #create a text file inside the folder which contains prgrm file(pfile.txt)\n",
    "        src_path=r\"pfile.txt\"\n",
    "        #dirfolder is the name of folder which i created \n",
    "        dest_path=r\"C:/Users/User/dirfolder/newdirectory\"\n",
    "        shutil.copy(src_path,dest_path)\n",
    "        print(\"File copied!!!\")\n",
    "    else:\n",
    "        print(\"Invalid choice!!!!\")\n",
    "        \n",
    "        #create a foler and inside that save prgm file and the text file\n",
    "        #if at all a new directory is created initially delete it .bcz we have to create a new directory inside that"
   ]
  },
  {
   "cell_type": "code",
   "execution_count": null,
   "id": "48376375",
   "metadata": {},
   "outputs": [],
   "source": []
  }
 ],
 "metadata": {
  "kernelspec": {
   "display_name": "Python 3 (ipykernel)",
   "language": "python",
   "name": "python3"
  },
  "language_info": {
   "codemirror_mode": {
    "name": "ipython",
    "version": 3
   },
   "file_extension": ".py",
   "mimetype": "text/x-python",
   "name": "python",
   "nbconvert_exporter": "python",
   "pygments_lexer": "ipython3",
   "version": "3.9.7"
  }
 },
 "nbformat": 4,
 "nbformat_minor": 5
}
