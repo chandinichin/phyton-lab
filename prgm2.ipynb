{
 "cells": [
  {
   "cell_type": "code",
   "execution_count": null,
   "id": "f31bdfb4",
   "metadata": {},
   "outputs": [
    {
     "name": "stdout",
     "output_type": "stream",
     "text": [
      "1.Get the current working directory:\n",
      "2.List all the files and directories in current directory\n",
      "3.Create a new directory\n",
      "4.Verify if the new directory has been created\n",
      "5.Copy a file into directory\n",
      "Enter your choice:1\n",
      "Current working directoy is  C:\\Users\\User\\myfolder\n",
      "1.Get the current working directory:\n",
      "2.List all the files and directories in current directory\n",
      "3.Create a new directory\n",
      "4.Verify if the new directory has been created\n",
      "5.Copy a file into directory\n",
      "Enter your choice:2\n",
      "All the files and directories in current working directory are  ['.ipynb_checkpoints', 'mytext.txt', 'new', 'prgm2.ipynb']\n",
      "1.Get the current working directory:\n",
      "2.List all the files and directories in current directory\n",
      "3.Create a new directory\n",
      "4.Verify if the new directory has been created\n",
      "5.Copy a file into directory\n",
      "Enter your choice:3\n",
      "Enter the name of the directory to be created: new1\n",
      "Directory created!! new1\n",
      "1.Get the current working directory:\n",
      "2.List all the files and directories in current directory\n",
      "3.Create a new directory\n",
      "4.Verify if the new directory has been created\n",
      "5.Copy a file into directory\n",
      "Enter your choice:4\n",
      "True\n",
      "1.Get the current working directory:\n",
      "2.List all the files and directories in current directory\n",
      "3.Create a new directory\n",
      "4.Verify if the new directory has been created\n",
      "5.Copy a file into directory\n",
      "Enter your choice:5\n",
      "Enter the name of the file to be created: mytext.txt\n",
      "File copied\n",
      "1.Get the current working directory:\n",
      "2.List all the files and directories in current directory\n",
      "3.Create a new directory\n",
      "4.Verify if the new directory has been created\n",
      "5.Copy a file into directory\n"
     ]
    }
   ],
   "source": [
    "import os\n",
    "import shutil\n",
    "while(1):\n",
    "    print(\"1.Get the current working directory:\")\n",
    "    print(\"2.List all the files and directories in current directory\")\n",
    "    print(\"3.Create a new directory\")\n",
    "    print(\"4.Verify if the new directory has been created\")\n",
    "    print(\"5.Copy a file into directory\")\n",
    "    ch=int(input(\"Enter your choice:\"))\n",
    "    if ch==1:\n",
    "        print(\"Current working directoy is \",os.getcwd())\n",
    "    elif ch==2:\n",
    "        print(\"All the files and directories in current working directory are \",os.listdir(os.curdir))\n",
    "    elif ch==3:\n",
    "        directory=input(\"Enter the name of the directory to be created: \")\n",
    "        os.mkdir(directory)\n",
    "        print(\"Directory created!!\",directory)\n",
    "    elif ch==4:\n",
    "        exist=os.path.exists(directory)\n",
    "        print(exist)\n",
    "    elif ch==5:\n",
    "        src_path=input(\"Enter the name of the file to be created: \")\n",
    "        if shutil.copy(src_path,directory):\n",
    "            print(\"File copied\")\n",
    "        else:\n",
    "            print(\"Cannot copy\")\n",
    "    elif ch==6:\n",
    "        break    \n",
    "    else:\n",
    "        print(\"Invalid choice\")\n",
    "        # write a prgrm as it is while running it will show your current working directory in ch=1\n",
    "        #enter ch=2 in that it will show the directory of folder(inside prgrm file and textfile)\n",
    "        #to create a new directory just give the name ex:new ..it will show taht directory is created also can check in folder\n",
    "        #to verify the directory is created ..it shows true\n",
    "        #to copy the file in ch==5 so give the name mytext.txt for that d"
   ]
  },
  {
   "cell_type": "code",
   "execution_count": null,
   "id": "57d2a374",
   "metadata": {},
   "outputs": [],
   "source": []
  }
 ],
 "metadata": {
  "kernelspec": {
   "display_name": "Python 3 (ipykernel)",
   "language": "python",
   "name": "python3"
  },
  "language_info": {
   "codemirror_mode": {
    "name": "ipython",
    "version": 3
   },
   "file_extension": ".py",
   "mimetype": "text/x-python",
   "name": "python",
   "nbconvert_exporter": "python",
   "pygments_lexer": "ipython3",
   "version": "3.9.7"
  }
 },
 "nbformat": 4,
 "nbformat_minor": 5
}
