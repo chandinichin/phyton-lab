{
 "cells": [
  {
   "cell_type": "code",
   "execution_count": 1,
   "id": "f9cf542b",
   "metadata": {},
   "outputs": [
    {
     "name": "stdout",
     "output_type": "stream",
     "text": [
      "      Unnamed: 0  Order        PID  MS SubClass MS Zoning  Lot Frontage  \\\n",
      "0              0      1  526301100           20        RL         141.0   \n",
      "1              1      2  526350040           20        RH          80.0   \n",
      "2              2      3  526351010           20        RL          81.0   \n",
      "3              3      4  526353030           20        RL          93.0   \n",
      "4              4      5  527105010           60        RL          74.0   \n",
      "...          ...    ...        ...          ...       ...           ...   \n",
      "2925        2925   2926  923275080           80        RL          37.0   \n",
      "2926        2926   2927  923276100           20        RL           NaN   \n",
      "2927        2927   2928  923400125           85        RL          62.0   \n",
      "2928        2928   2929  924100070           20        RL          77.0   \n",
      "2929        2929   2930  924151050           60        RL          74.0   \n",
      "\n",
      "      Lot Area Street Alley Lot Shape  ... Pool Area Pool QC  Fence  \\\n",
      "0        31770   Pave   NaN       IR1  ...         0     NaN    NaN   \n",
      "1        11622   Pave   NaN       Reg  ...         0     NaN  MnPrv   \n",
      "2        14267   Pave   NaN       IR1  ...         0     NaN    NaN   \n",
      "3        11160   Pave   NaN       Reg  ...         0     NaN    NaN   \n",
      "4        13830   Pave   NaN       IR1  ...         0     NaN  MnPrv   \n",
      "...        ...    ...   ...       ...  ...       ...     ...    ...   \n",
      "2925      7937   Pave   NaN       IR1  ...         0     NaN  GdPrv   \n",
      "2926      8885   Pave   NaN       IR1  ...         0     NaN  MnPrv   \n",
      "2927     10441   Pave   NaN       Reg  ...         0     NaN  MnPrv   \n",
      "2928     10010   Pave   NaN       Reg  ...         0     NaN    NaN   \n",
      "2929      9627   Pave   NaN       Reg  ...         0     NaN    NaN   \n",
      "\n",
      "     Misc Feature Misc Val Mo Sold Yr Sold Sale Type Sale Condition  SalePrice  \n",
      "0             NaN        0       5    2010       WD          Normal     215000  \n",
      "1             NaN        0       6    2010       WD          Normal     105000  \n",
      "2            Gar2    12500       6    2010       WD          Normal     172000  \n",
      "3             NaN        0       4    2010       WD          Normal     244000  \n",
      "4             NaN        0       3    2010       WD          Normal     189900  \n",
      "...           ...      ...     ...     ...       ...            ...        ...  \n",
      "2925          NaN        0       3    2006       WD          Normal     142500  \n",
      "2926          NaN        0       6    2006       WD          Normal     131000  \n",
      "2927         Shed      700       7    2006       WD          Normal     132000  \n",
      "2928          NaN        0       4    2006       WD          Normal     170000  \n",
      "2929          NaN        0      11    2006       WD          Normal     188000  \n",
      "\n",
      "[2930 rows x 83 columns]\n"
     ]
    }
   ],
   "source": [
    "import pandas as pd\n",
    "s=pd.read_csv(\"housing.csv\",sep=',')\n",
    "print(s)"
   ]
  },
  {
   "cell_type": "code",
   "execution_count": null,
   "id": "45d7debc",
   "metadata": {},
   "outputs": [],
   "source": []
  }
 ],
 "metadata": {
  "kernelspec": {
   "display_name": "Python 3 (ipykernel)",
   "language": "python",
   "name": "python3"
  },
  "language_info": {
   "codemirror_mode": {
    "name": "ipython",
    "version": 3
   },
   "file_extension": ".py",
   "mimetype": "text/x-python",
   "name": "python",
   "nbconvert_exporter": "python",
   "pygments_lexer": "ipython3",
   "version": "3.9.7"
  }
 },
 "nbformat": 4,
 "nbformat_minor": 5
}
