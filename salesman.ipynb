{
 "cells": [
  {
   "cell_type": "code",
   "execution_count": 17,
   "id": "1ac01bf6",
   "metadata": {},
   "outputs": [
    {
     "name": "stdout",
     "output_type": "stream",
     "text": [
      "Enter the number of salesmen: 2\n",
      "Enter the name of salesman 1: rh\n",
      "Enter the salary per week for salesman 1: 3000\n",
      "Enter the name of salesman 2: tyj\n",
      "Enter the salary per week for salesman 2: 1000\n",
      "Name Salary\n",
      "rh 3000.0\n",
      "---Details of Salesman---\n",
      "Name: rh\n",
      "Salary: 3000.0\n",
      "Total: 4500.0\n",
      "Remarks: Average\n",
      "\n",
      "Name Salary\n",
      "tyj 1000.0\n",
      "---Details of Salesman---\n",
      "Name: tyj\n",
      "Salary: 1000.0\n",
      "Total: 1500.0\n",
      "Remarks: Work Hard\n",
      "\n"
     ]
    }
   ],
   "source": [
    "class elec_prod:\n",
    "    def __init__(self, name, salary):\n",
    "        self.name = name\n",
    "        self.salary = salary\n",
    "    def salesmandetails(self):\n",
    "        print(\"Name Salary\")\n",
    "        print(self.name, self.salary)\n",
    "    def total(self):\n",
    "        return 30 * self.salary * 0.05\n",
    "    def remarks(self):\n",
    "        total = self.total()\n",
    "        if total >= 8000:\n",
    "            return \"Excellent\"\n",
    "        elif total>=6000 and total<8000:\n",
    "              return \"Good\"\n",
    "        elif 4000 <= total < 6000:\n",
    "            return \"Average\"\n",
    "        else:\n",
    "            return \"Work Hard\"\n",
    "    def display(self):\n",
    "        print(\"---Details of Salesman---\")\n",
    "        print(\"Name:\", self.name)\n",
    "        print(\"Salary:\", self.salary)\n",
    "        print(\"Total:\", self.total())\n",
    "        print(\"Remarks:\", self.remarks())\n",
    "        # Create a list to store salesman instances\n",
    "        \n",
    "salesmen_list = []\n",
    "            # Input for the number of salesmen\n",
    "num_salesmen = int(input(\"Enter the number of salesmen: \"))\n",
    "            # Input details for each salesman\n",
    "for i in range(num_salesmen):\n",
    "        name = input(f\"Enter the name of salesman {i+1}: \")\n",
    "        salary = float(input(f\"Enter the salary per week for salesman {i+1}: \"))\n",
    "        ep = elec_prod(name, salary)\n",
    "        salesmen_list.append(ep)\n",
    "            # Display details for each salesman\n",
    "for salesman in salesmen_list:\n",
    "        salesman.salesmandetails()\n",
    "        salesman.display()\n",
    "        print() # Add an empty line for better readability"
   ]
  },
  {
   "cell_type": "code",
   "execution_count": null,
   "id": "e76c907e",
   "metadata": {},
   "outputs": [],
   "source": []
  }
 ],
 "metadata": {
  "kernelspec": {
   "display_name": "Python 3 (ipykernel)",
   "language": "python",
   "name": "python3"
  },
  "language_info": {
   "codemirror_mode": {
    "name": "ipython",
    "version": 3
   },
   "file_extension": ".py",
   "mimetype": "text/x-python",
   "name": "python",
   "nbconvert_exporter": "python",
   "pygments_lexer": "ipython3",
   "version": "3.9.7"
  }
 },
 "nbformat": 4,
 "nbformat_minor": 5
}
