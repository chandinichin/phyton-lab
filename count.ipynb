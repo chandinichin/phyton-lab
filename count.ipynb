{
 "cells": [
  {
   "cell_type": "code",
   "execution_count": 16,
   "id": "8bbf9245",
   "metadata": {},
   "outputs": [
    {
     "name": "stdout",
     "output_type": "stream",
     "text": [
      "number of lines in textfile:  2\n",
      "number of words in textfile:  5\n",
      "number of character in text file:  17\n",
      "number of spaces in text file:  3\n"
     ]
    }
   ],
   "source": [
    "def analyze_text_file(fname):\n",
    "    num_words=0\n",
    "    num_lines=0\n",
    "    num_spaces=0\n",
    "    num_char=0\n",
    "    with open('counter.txt','r') as f:\n",
    "        for line in f:\n",
    "                num_lines=num_lines+1\n",
    "                word='Y'\n",
    "                for letter in line:\n",
    "                        if(letter!=' ' and word=='Y'):\n",
    "                                num_words=num_words+1\n",
    "                                word='N'\n",
    "                        elif(letter == ' '):\n",
    "                            num_spaces=num_spaces+1\n",
    "                            word='Y'\n",
    "                        for i in letter:\n",
    "                                if(i!=\" \" and i!=\"\\n\"):\n",
    "                                    num_char=num_char+1\n",
    "    print(\"number of lines in textfile: \", num_lines)\n",
    "    print(\"number of words in textfile: \", num_words)\n",
    "    print(\"number of character in text file: \", num_char)\n",
    "    print(\"number of spaces in text file: \", num_spaces)\n",
    "if __name__=='__main__':\n",
    "    fname='counter.txt'\n",
    "    try:\n",
    "        analyze_text_file(fname)\n",
    "    except:\n",
    "        print(\"file not found\")\n",
    "        #CREATE A FILE INSIDE THAT SAVE A PROGRAM and one text file\n",
    "        #after that name of text file which u have saved in code\n",
    "        #it will count the number of line character line words\n",
    "        #indentation is the important* for contains if inside again inside that for ..for(other wise chracter count will be wrong)\n"
   ]
  },
  {
   "cell_type": "code",
   "execution_count": null,
   "id": "07d055b1",
   "metadata": {},
   "outputs": [],
   "source": []
  },
  {
   "cell_type": "code",
   "execution_count": null,
   "id": "07dc9a3e",
   "metadata": {},
   "outputs": [],
   "source": []
  },
  {
   "cell_type": "code",
   "execution_count": null,
   "id": "694812ab",
   "metadata": {},
   "outputs": [],
   "source": []
  }
 ],
 "metadata": {
  "kernelspec": {
   "display_name": "Python 3 (ipykernel)",
   "language": "python",
   "name": "python3"
  },
  "language_info": {
   "codemirror_mode": {
    "name": "ipython",
    "version": 3
   },
   "file_extension": ".py",
   "mimetype": "text/x-python",
   "name": "python",
   "nbconvert_exporter": "python",
   "pygments_lexer": "ipython3",
   "version": "3.9.7"
  }
 },
 "nbformat": 4,
 "nbformat_minor": 5
}
